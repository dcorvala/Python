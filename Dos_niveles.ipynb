{
  "nbformat": 4,
  "nbformat_minor": 0,
  "metadata": {
    "colab": {
      "provenance": []
    },
    "kernelspec": {
      "name": "python3",
      "display_name": "Python 3"
    },
    "language_info": {
      "name": "python"
    }
  },
  "cells": [
    {
      "cell_type": "markdown",
      "source": [
        "**Hamiltoniano de dos niveles:**\n",
        "$$\n",
        "\\hat{H} = \\sum^{g_1}_{i=1}n_i\\epsilon_1+\\sum^{g_2}_{j=1}n_j\\epsilon_2\n",
        "$$\n",
        "$$\n",
        "g_1+g_2=L\n",
        "$$"
      ],
      "metadata": {
        "id": "AmbZNOIwke_o"
      }
    },
    {
      "cell_type": "markdown",
      "source": [
        "**Número de HCB:**\n",
        "$$\n",
        "M\n",
        "$$"
      ],
      "metadata": {
        "id": "5dc0khJ_wLko"
      }
    },
    {
      "cell_type": "markdown",
      "source": [
        "**Degeneración de niveles:**\n",
        "$$\n",
        "g_1~~y~~g_2\n",
        "$$"
      ],
      "metadata": {
        "id": "QQ1EPrWfzx-g"
      }
    },
    {
      "cell_type": "code",
      "execution_count": null,
      "metadata": {
        "id": "-YKS-bC5kdzv"
      },
      "outputs": [],
      "source": [
        "import numpy as np\n",
        "from math import factorial\n",
        "def nucomb(m, n):\n",
        "  return factorial(m) // (factorial(n) * factorial(m - n))"
      ]
    },
    {
      "cell_type": "markdown",
      "source": [
        "**Características del sistema:**"
      ],
      "metadata": {
        "id": "k0g3bD_DOMY0"
      }
    },
    {
      "cell_type": "code",
      "source": [
        "M=8\n",
        "g1=6\n",
        "g2=6\n",
        "L=g1+g2\n",
        "epsilon1=-1\n",
        "epsilon2=+1"
      ],
      "metadata": {
        "id": "_QpgMK5lx-Pl"
      },
      "execution_count": null,
      "outputs": []
    },
    {
      "cell_type": "markdown",
      "source": [
        "**Inicio:**"
      ],
      "metadata": {
        "id": "5QZcnQb7O01d"
      }
    },
    {
      "cell_type": "code",
      "source": [
        "nivel1=[]\n",
        "nivel2=[]\n",
        "E=[]\n",
        "deg=[]"
      ],
      "metadata": {
        "id": "QjEm6k0hf10W"
      },
      "execution_count": null,
      "outputs": []
    },
    {
      "cell_type": "code",
      "source": [
        " if g1>=M and g2>=M:\n",
        "    for i in range(M+1):\n",
        "      nivel1.append(M-i)\n",
        "      nivel2.append(i)\n",
        "      E.append((epsilon1)*nivel1[i]+(epsilon2)*nivel2[i])\n",
        "      deg.append(nucomb(g1, nivel1[i])*nucomb(g2, nivel2[i]))\n",
        "elif g1>=M and g2<M:\n",
        "    for i in range(g2+1):\n",
        "     nivel1.append(M-i)\n",
        "     nivel2.append(i)\n",
        "     E.append((epsilon1)*nivel1[i]+(epsilon2)*nivel2[i])\n",
        "     deg.append(nucomb(g1, nivel1[i])*nucomb(g2, nivel2[i]))\n",
        "elif g1<M and g2>=M:\n",
        "    for i in range(M-g1, M+1):\n",
        "      nivel1.append(M-i)\n",
        "      nivel2.append(i)\n",
        "      E.append((epsilon1)*nivel1[i-(M-g1)]+(epsilon2)*nivel2[i-(M-g1)])\n",
        "      deg.append(nucomb(g1, nivel1[i-(M-g1)])*nucomb(g2, nivel2[i-(M-g1)]))\n",
        "else:\n",
        "    i=0\n",
        "    while i <= g2-(M-g1):\n",
        "         nivel1.append(g1-i)\n",
        "         nivel2.append(M-g1+i)\n",
        "         E.append((epsilon1)*nivel1[i]+(epsilon2)*nivel2[i])\n",
        "         deg.append(nucomb(g1, nivel1[i])*nucomb(g2, nivel2[i]))\n",
        "         i=i+1\n",
        "\n",
        "\n",
        "\n",
        "\n"
      ],
      "metadata": {
        "id": "Bx-Kk0N8fXyo"
      },
      "execution_count": null,
      "outputs": []
    },
    {
      "cell_type": "code",
      "source": [],
      "metadata": {
        "id": "DGO0zv96j9gl"
      },
      "execution_count": null,
      "outputs": []
    },
    {
      "cell_type": "markdown",
      "source": [
        "**Output:**"
      ],
      "metadata": {
        "id": "n0mR4mfwO5Nx"
      }
    },
    {
      "cell_type": "code",
      "source": [
        "print(\"n1:\", nivel1)\n",
        "print(\"n2:\",nivel2)\n",
        "print(\"<H>:\",E)\n",
        "print(\"degeneracion en energía\", deg)"
      ],
      "metadata": {
        "colab": {
          "base_uri": "https://localhost:8080/"
        },
        "id": "SxkIWbQnh3kC",
        "outputId": "da5845aa-c1e5-4589-ecc3-bc033cd1aa39"
      },
      "execution_count": null,
      "outputs": [
        {
          "output_type": "stream",
          "name": "stdout",
          "text": [
            "n1: [6, 5, 4, 3, 2]\n",
            "n2: [2, 3, 4, 5, 6]\n",
            "<H>: [-4, -2, 0, 2, 4]\n",
            "degeneracion en energía [15, 120, 225, 120, 15]\n"
          ]
        }
      ]
    }
  ]
}